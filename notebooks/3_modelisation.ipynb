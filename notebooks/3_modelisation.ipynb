# Définition de l'architecture du ConvNet:

from tensorflow.keras.models import Sequential
from tensorflow.keras.layers import Conv2D, MaxPooling2D, Flatten, Dense, Dropout

model = Sequential([
    Conv2D(32, (3, 3), activation='relu', input_shape=(256, 256, 3)),
    MaxPooling2D(2, 2),
    Conv2D(64, (3, 3), activation='relu'),
    MaxPooling2D(2, 2),
    Conv2D(128, (3, 3), activation='relu'),
    MaxPooling2D(2, 2),
    Flatten(),
    Dense(512, activation='relu'),
    Dropout(0.5),
    Dense(1, activation='sigmoid')
])

model.compile(optimizer='adam', loss='binary_crossentropy', metrics=['accuracy'])
model.summary()

# Entraînement du modèle:

import numpy as np
import tensorflow as tf
from tensorflow.keras.preprocessing.image import load_img, img_to_array

def load_and_preprocess_image(image_path):
    image = load_img(image_path, target_size=(256, 256))  
    image = img_to_array(image)
    image = image / 255.0  
    return image

X_train_images = np.array([load_and_preprocess_image(path) for path in X_train])
X_val_images = np.array([load_and_preprocess_image(path) for path in X_val])


history = model.fit(X_train_images, y_train, epochs=50, validation_data=(X_val_images, y_val), callbacks=[early_stopping])

#Visualisation des courbes d'apprentissage:

import matplotlib.pyplot as plt

plt.figure(figsize=(12, 5))
plt.subplot(1, 2, 1)
plt.plot(history.history['accuracy'], label='Précision sur l\'entraînement')
plt.plot(history.history['val_accuracy'], label='Précision sur la validation')
plt.title('Précision pendant l\'entraînement')
plt.xlabel('Époque')
plt.ylabel('Précision')
plt.legend()

plt.subplot(1, 2, 2)
plt.plot(history.history['loss'], label='Perte sur l\'entraînement')
plt.plot(history.history['val_loss'], label='Perte sur la validation')
plt.title('Perte pendant l\'entraînement')
plt.xlabel('Époque')
plt.ylabel('Perte')
plt.legend()
plt.show()
