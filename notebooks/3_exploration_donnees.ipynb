# Chargement et visualisation des images.

import os
import matplotlib.pyplot as plt
from PIL import Image

images_dir = 'C:/Users/HP/OneDrive/Bureau/S4/pfa/dataset_teeth_1/images'

image_files = os.listdir(images_dir)[:5] 
plt.figure(figsize=(10, 8))
for i, image_file in enumerate(image_files):
    img_path = os.path.join(images_dir, image_file)
    img = Image.open(img_path)
    plt.subplot(1, 5, i+1)
    plt.imshow(img)
    plt.title(image_file)
    plt.axis('off')
plt.show()

# Analyse des labels.

import pandas as pd

labels_path = 'C:/Users/HP/OneDrive/Bureau/S4/pfa/dataset_teeth_1/labels'
label_files = os.listdir(labels_path)

labels_count = len(label_files)
print(f'Total number of label files: {labels_count}')

sample_label_file = os.path.join(labels_path, label_files[0])
with open(sample_label_file, 'r') as f:
    sample_label = f.read()
print(f'Sample label from {label_files[0]}:\n{sample_label}')

# Statistiques sur le dataset (répartition des classes, dimensions des images, etc.).

import numpy as np

image_dimensions = []
for image_file in image_files:
    img_path = os.path.join(images_dir, image_file)
    img = Image.open(img_path)
    image_dimensions.append(img.size)

image_dimensions = np.array(image_dimensions)
print(f'Mean image dimensions: {image_dimensions.mean(axis=0)}')
print(f'Standard deviation of image dimensions: {image_dimensions.std(axis=0)}')
